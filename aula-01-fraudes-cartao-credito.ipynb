{
  "cells": [
    {
      "cell_type": "markdown",
      "metadata": {
        "id": "view-in-github",
        "colab_type": "text"
      },
      "source": [
        "<a href=\"https://colab.research.google.com/github/rafaelblink/machine-learning/blob/main/aula-01-fraudes-cartao-credito.ipynb\" target=\"_parent\"><img src=\"https://colab.research.google.com/assets/colab-badge.svg\" alt=\"Open In Colab\"/></a>"
      ]
    },
    {
      "cell_type": "code",
      "execution_count": 1,
      "id": "5a9eb9fe-a16d-4707-8e6f-8736b6e33853",
      "metadata": {
        "id": "5a9eb9fe-a16d-4707-8e6f-8736b6e33853"
      },
      "outputs": [],
      "source": [
        "import numpy as np # gerar matrizes e vetores para grandes volumes\n",
        "import pandas as pd # manipular dados (excel)\n",
        "from sklearn.datasets import make_classification # dataset para auxiliar a criacao base de fraudes\n",
        "\n",
        "from sklearn.model_selection import train_test_split # separar base, 70% de treino e 30% para testes\n",
        "from sklearn.preprocessing import StandardScaler # preprocessamento dados, normalizar\n",
        "from sklearn.ensemble import RandomForestClassifier\n",
        "from sklearn.metrics import classification_report"
      ]
    },
    {
      "cell_type": "code",
      "execution_count": 9,
      "id": "3fafeea1-ef07-4c7e-be4f-89ae11d39e14",
      "metadata": {
        "id": "3fafeea1-ef07-4c7e-be4f-89ae11d39e14"
      },
      "outputs": [],
      "source": [
        "# Definir número de amostras\n",
        "total_samples = 10000\n",
        "fraud_ratio = 0.05  # 5% de fraudes\n",
        "fraud_samples = int(total_samples * fraud_ratio)\n",
        "normal_samples = total_samples - fraud_samples"
      ]
    },
    {
      "cell_type": "code",
      "execution_count": 13,
      "id": "e40b36f4-c2ca-4f32-807e-66869eece99c",
      "metadata": {
        "colab": {
          "base_uri": "https://localhost:8080/"
        },
        "id": "e40b36f4-c2ca-4f32-807e-66869eece99c",
        "outputId": "f2133a6b-be91-4122-be6c-bf894ef4d235"
      },
      "outputs": [
        {
          "output_type": "stream",
          "name": "stdout",
          "text": [
            "[[-2.24456934 -1.36232827  1.55433334 -2.0869092  -1.27760482]\n",
            " [-0.74178572  0.20428203  1.68189287 -2.60829504  1.98019634]\n",
            " [-1.81742298 -1.4378391   0.66102308 -0.7084372   0.72711376]\n",
            " ...\n",
            " [-3.17646599 -2.97878542  0.32401442  0.12710402 -0.63318634]\n",
            " [-0.41224819  0.17380558  1.04229889 -1.62625451 -1.24718999]\n",
            " [-1.02487223 -0.70828082  0.55578021 -0.70007904 -0.43269446]]\n",
            "[0 0 0 ... 0 0 0]\n"
          ]
        }
      ],
      "source": [
        "# Gerar dados sintéticos com make_classification\n",
        "X, y = make_classification(n_samples=total_samples, n_features=5, weights=[0.95, fraud_ratio], random_state=42)\n",
        "print(X)\n",
        "print(y)"
      ]
    },
    {
      "cell_type": "code",
      "execution_count": 12,
      "id": "20cfc157-06d0-4398-a3b0-40ef87ba8212",
      "metadata": {
        "id": "20cfc157-06d0-4398-a3b0-40ef87ba8212"
      },
      "outputs": [],
      "source": [
        "# Criar DataFrame\n",
        "df = pd.DataFrame(X, columns=['valor_transacao', 'latitude', 'longitude', 'historico_usuario', 'horario_compra'])\n",
        "df['fraude'] = y  # Rótulo de fraude"
      ]
    },
    {
      "cell_type": "code",
      "execution_count": 14,
      "id": "4f60a073-0301-471f-9a80-b2c147addb9e",
      "metadata": {
        "id": "4f60a073-0301-471f-9a80-b2c147addb9e"
      },
      "outputs": [],
      "source": [
        "def ajustar_valores(df):\n",
        "    df['valor_transacao'] = np.abs(df['valor_transacao']) * 1000  # Converter para valores positivos\n",
        "    df['latitude'] = np.round(np.random.uniform(-90, 90, total_samples), 6)\n",
        "    df['longitude'] = np.round(np.random.uniform(-180, 180, total_samples), 6)\n",
        "    df['historico_usuario'] = np.random.randint(1, 50, total_samples)  # Número de transações anteriores\n",
        "    df['horario_compra'] = np.random.randint(0, 24, total_samples)  # Horário do dia\n",
        "    return df"
      ]
    },
    {
      "cell_type": "code",
      "execution_count": 15,
      "id": "fc2a2593-c306-46ae-a4de-7fdbc97f66c2",
      "metadata": {
        "id": "fc2a2593-c306-46ae-a4de-7fdbc97f66c2"
      },
      "outputs": [],
      "source": [
        "df = ajustar_valores(df)"
      ]
    },
    {
      "cell_type": "code",
      "execution_count": 16,
      "id": "100b1b92-2388-456b-9a04-65569a6d689e",
      "metadata": {
        "colab": {
          "base_uri": "https://localhost:8080/"
        },
        "id": "100b1b92-2388-456b-9a04-65569a6d689e",
        "outputId": "4e32033c-2c7e-4019-bfb7-dbeea1770787"
      },
      "outputs": [
        {
          "output_type": "stream",
          "name": "stdout",
          "text": [
            "Base de dados gerada com sucesso!\n"
          ]
        }
      ],
      "source": [
        "# Salvar como CSV\n",
        "df.to_csv('fraudes_cartao.csv', index=False)\n",
        "print(\"Base de dados gerada com sucesso!\")"
      ]
    },
    {
      "cell_type": "code",
      "execution_count": 17,
      "id": "9196fdee-5676-45cd-91ce-8536ac6008c8",
      "metadata": {
        "id": "9196fdee-5676-45cd-91ce-8536ac6008c8"
      },
      "outputs": [],
      "source": [
        "# Definir número de amostras\n",
        "total_samples = 10000\n",
        "fraud_ratio = 0.05  # 5% de fraudes\n",
        "fraud_samples = int(total_samples * fraud_ratio)\n",
        "normal_samples = total_samples - fraud_samples"
      ]
    },
    {
      "cell_type": "code",
      "execution_count": 18,
      "id": "4a47c362-8264-4804-9df9-4324ea0b3337",
      "metadata": {
        "id": "4a47c362-8264-4804-9df9-4324ea0b3337"
      },
      "outputs": [],
      "source": [
        "# Gerar dados sintéticos com make_classification\n",
        "X, y = make_classification(n_samples=total_samples, n_features=5, weights=[0.95, 0.05], random_state=42)"
      ]
    },
    {
      "cell_type": "code",
      "execution_count": 19,
      "id": "16b1f936-086c-4815-adc1-f502a86a0fd6",
      "metadata": {
        "id": "16b1f936-086c-4815-adc1-f502a86a0fd6"
      },
      "outputs": [],
      "source": [
        "# Criar DataFrame\n",
        "df = pd.DataFrame(X, columns=['valor_transacao', 'latitude', 'longitude', 'historico_usuario', 'horario_compra'])\n",
        "df['fraude'] = y  # Rótulo de fraude"
      ]
    },
    {
      "cell_type": "code",
      "execution_count": 20,
      "id": "3a3c634d-c0f4-4cb0-aedd-de8620a1e502",
      "metadata": {
        "id": "3a3c634d-c0f4-4cb0-aedd-de8620a1e502"
      },
      "outputs": [],
      "source": [
        "def ajustar_valores(df):\n",
        "    df['valor_transacao'] = np.abs(df['valor_transacao']) * 1000  # Converter para valores positivos\n",
        "    df['latitude'] = np.round(np.random.uniform(-90, 90, total_samples), 6)\n",
        "    df['longitude'] = np.round(np.random.uniform(-180, 180, total_samples), 6)\n",
        "    df['historico_usuario'] = np.random.randint(1, 50, total_samples)  # Número de transações anteriores\n",
        "    df['horario_compra'] = np.random.randint(0, 24, total_samples)  # Horário do dia\n",
        "    return df"
      ]
    },
    {
      "cell_type": "code",
      "execution_count": 21,
      "id": "94d9ee9f-169d-4194-a458-6e6c93858063",
      "metadata": {
        "id": "94d9ee9f-169d-4194-a458-6e6c93858063"
      },
      "outputs": [],
      "source": [
        "df = ajustar_valores(df)"
      ]
    },
    {
      "cell_type": "code",
      "execution_count": 22,
      "id": "e9ffac91-090b-4769-b93e-8fa1b018dfed",
      "metadata": {
        "id": "e9ffac91-090b-4769-b93e-8fa1b018dfed"
      },
      "outputs": [],
      "source": [
        "# Pré-processamento\n",
        "df.fillna(df.mean(), inplace=True)  # Lidar com valores nulos\n",
        "scaler = StandardScaler()\n",
        "df[['valor_transacao', 'historico_usuario', 'horario_compra']] = scaler.fit_transform(df[['valor_transacao', 'historico_usuario', 'horario_compra']])"
      ]
    },
    {
      "cell_type": "code",
      "execution_count": 23,
      "id": "951dc403-7a15-47af-85e7-85fe87f2b7c6",
      "metadata": {
        "id": "951dc403-7a15-47af-85e7-85fe87f2b7c6"
      },
      "outputs": [],
      "source": [
        "# Separar dados em treino e teste\n",
        "X_train, X_test, y_train, y_test = train_test_split(df.drop(columns=['fraude']), df['fraude'], test_size=0.3, random_state=42)"
      ]
    },
    {
      "cell_type": "code",
      "execution_count": 24,
      "id": "6b6c1820-5650-4a12-86b2-d4b3b0c2832d",
      "metadata": {
        "colab": {
          "base_uri": "https://localhost:8080/",
          "height": 80
        },
        "id": "6b6c1820-5650-4a12-86b2-d4b3b0c2832d",
        "outputId": "6b5f0ef9-e7d3-4c26-b957-c9517bc7f367"
      },
      "outputs": [
        {
          "output_type": "execute_result",
          "data": {
            "text/plain": [
              "RandomForestClassifier(random_state=42)"
            ],
            "text/html": [
              "<style>#sk-container-id-1 {\n",
              "  /* Definition of color scheme common for light and dark mode */\n",
              "  --sklearn-color-text: #000;\n",
              "  --sklearn-color-text-muted: #666;\n",
              "  --sklearn-color-line: gray;\n",
              "  /* Definition of color scheme for unfitted estimators */\n",
              "  --sklearn-color-unfitted-level-0: #fff5e6;\n",
              "  --sklearn-color-unfitted-level-1: #f6e4d2;\n",
              "  --sklearn-color-unfitted-level-2: #ffe0b3;\n",
              "  --sklearn-color-unfitted-level-3: chocolate;\n",
              "  /* Definition of color scheme for fitted estimators */\n",
              "  --sklearn-color-fitted-level-0: #f0f8ff;\n",
              "  --sklearn-color-fitted-level-1: #d4ebff;\n",
              "  --sklearn-color-fitted-level-2: #b3dbfd;\n",
              "  --sklearn-color-fitted-level-3: cornflowerblue;\n",
              "\n",
              "  /* Specific color for light theme */\n",
              "  --sklearn-color-text-on-default-background: var(--sg-text-color, var(--theme-code-foreground, var(--jp-content-font-color1, black)));\n",
              "  --sklearn-color-background: var(--sg-background-color, var(--theme-background, var(--jp-layout-color0, white)));\n",
              "  --sklearn-color-border-box: var(--sg-text-color, var(--theme-code-foreground, var(--jp-content-font-color1, black)));\n",
              "  --sklearn-color-icon: #696969;\n",
              "\n",
              "  @media (prefers-color-scheme: dark) {\n",
              "    /* Redefinition of color scheme for dark theme */\n",
              "    --sklearn-color-text-on-default-background: var(--sg-text-color, var(--theme-code-foreground, var(--jp-content-font-color1, white)));\n",
              "    --sklearn-color-background: var(--sg-background-color, var(--theme-background, var(--jp-layout-color0, #111)));\n",
              "    --sklearn-color-border-box: var(--sg-text-color, var(--theme-code-foreground, var(--jp-content-font-color1, white)));\n",
              "    --sklearn-color-icon: #878787;\n",
              "  }\n",
              "}\n",
              "\n",
              "#sk-container-id-1 {\n",
              "  color: var(--sklearn-color-text);\n",
              "}\n",
              "\n",
              "#sk-container-id-1 pre {\n",
              "  padding: 0;\n",
              "}\n",
              "\n",
              "#sk-container-id-1 input.sk-hidden--visually {\n",
              "  border: 0;\n",
              "  clip: rect(1px 1px 1px 1px);\n",
              "  clip: rect(1px, 1px, 1px, 1px);\n",
              "  height: 1px;\n",
              "  margin: -1px;\n",
              "  overflow: hidden;\n",
              "  padding: 0;\n",
              "  position: absolute;\n",
              "  width: 1px;\n",
              "}\n",
              "\n",
              "#sk-container-id-1 div.sk-dashed-wrapped {\n",
              "  border: 1px dashed var(--sklearn-color-line);\n",
              "  margin: 0 0.4em 0.5em 0.4em;\n",
              "  box-sizing: border-box;\n",
              "  padding-bottom: 0.4em;\n",
              "  background-color: var(--sklearn-color-background);\n",
              "}\n",
              "\n",
              "#sk-container-id-1 div.sk-container {\n",
              "  /* jupyter's `normalize.less` sets `[hidden] { display: none; }`\n",
              "     but bootstrap.min.css set `[hidden] { display: none !important; }`\n",
              "     so we also need the `!important` here to be able to override the\n",
              "     default hidden behavior on the sphinx rendered scikit-learn.org.\n",
              "     See: https://github.com/scikit-learn/scikit-learn/issues/21755 */\n",
              "  display: inline-block !important;\n",
              "  position: relative;\n",
              "}\n",
              "\n",
              "#sk-container-id-1 div.sk-text-repr-fallback {\n",
              "  display: none;\n",
              "}\n",
              "\n",
              "div.sk-parallel-item,\n",
              "div.sk-serial,\n",
              "div.sk-item {\n",
              "  /* draw centered vertical line to link estimators */\n",
              "  background-image: linear-gradient(var(--sklearn-color-text-on-default-background), var(--sklearn-color-text-on-default-background));\n",
              "  background-size: 2px 100%;\n",
              "  background-repeat: no-repeat;\n",
              "  background-position: center center;\n",
              "}\n",
              "\n",
              "/* Parallel-specific style estimator block */\n",
              "\n",
              "#sk-container-id-1 div.sk-parallel-item::after {\n",
              "  content: \"\";\n",
              "  width: 100%;\n",
              "  border-bottom: 2px solid var(--sklearn-color-text-on-default-background);\n",
              "  flex-grow: 1;\n",
              "}\n",
              "\n",
              "#sk-container-id-1 div.sk-parallel {\n",
              "  display: flex;\n",
              "  align-items: stretch;\n",
              "  justify-content: center;\n",
              "  background-color: var(--sklearn-color-background);\n",
              "  position: relative;\n",
              "}\n",
              "\n",
              "#sk-container-id-1 div.sk-parallel-item {\n",
              "  display: flex;\n",
              "  flex-direction: column;\n",
              "}\n",
              "\n",
              "#sk-container-id-1 div.sk-parallel-item:first-child::after {\n",
              "  align-self: flex-end;\n",
              "  width: 50%;\n",
              "}\n",
              "\n",
              "#sk-container-id-1 div.sk-parallel-item:last-child::after {\n",
              "  align-self: flex-start;\n",
              "  width: 50%;\n",
              "}\n",
              "\n",
              "#sk-container-id-1 div.sk-parallel-item:only-child::after {\n",
              "  width: 0;\n",
              "}\n",
              "\n",
              "/* Serial-specific style estimator block */\n",
              "\n",
              "#sk-container-id-1 div.sk-serial {\n",
              "  display: flex;\n",
              "  flex-direction: column;\n",
              "  align-items: center;\n",
              "  background-color: var(--sklearn-color-background);\n",
              "  padding-right: 1em;\n",
              "  padding-left: 1em;\n",
              "}\n",
              "\n",
              "\n",
              "/* Toggleable style: style used for estimator/Pipeline/ColumnTransformer box that is\n",
              "clickable and can be expanded/collapsed.\n",
              "- Pipeline and ColumnTransformer use this feature and define the default style\n",
              "- Estimators will overwrite some part of the style using the `sk-estimator` class\n",
              "*/\n",
              "\n",
              "/* Pipeline and ColumnTransformer style (default) */\n",
              "\n",
              "#sk-container-id-1 div.sk-toggleable {\n",
              "  /* Default theme specific background. It is overwritten whether we have a\n",
              "  specific estimator or a Pipeline/ColumnTransformer */\n",
              "  background-color: var(--sklearn-color-background);\n",
              "}\n",
              "\n",
              "/* Toggleable label */\n",
              "#sk-container-id-1 label.sk-toggleable__label {\n",
              "  cursor: pointer;\n",
              "  display: flex;\n",
              "  width: 100%;\n",
              "  margin-bottom: 0;\n",
              "  padding: 0.5em;\n",
              "  box-sizing: border-box;\n",
              "  text-align: center;\n",
              "  align-items: start;\n",
              "  justify-content: space-between;\n",
              "  gap: 0.5em;\n",
              "}\n",
              "\n",
              "#sk-container-id-1 label.sk-toggleable__label .caption {\n",
              "  font-size: 0.6rem;\n",
              "  font-weight: lighter;\n",
              "  color: var(--sklearn-color-text-muted);\n",
              "}\n",
              "\n",
              "#sk-container-id-1 label.sk-toggleable__label-arrow:before {\n",
              "  /* Arrow on the left of the label */\n",
              "  content: \"▸\";\n",
              "  float: left;\n",
              "  margin-right: 0.25em;\n",
              "  color: var(--sklearn-color-icon);\n",
              "}\n",
              "\n",
              "#sk-container-id-1 label.sk-toggleable__label-arrow:hover:before {\n",
              "  color: var(--sklearn-color-text);\n",
              "}\n",
              "\n",
              "/* Toggleable content - dropdown */\n",
              "\n",
              "#sk-container-id-1 div.sk-toggleable__content {\n",
              "  max-height: 0;\n",
              "  max-width: 0;\n",
              "  overflow: hidden;\n",
              "  text-align: left;\n",
              "  /* unfitted */\n",
              "  background-color: var(--sklearn-color-unfitted-level-0);\n",
              "}\n",
              "\n",
              "#sk-container-id-1 div.sk-toggleable__content.fitted {\n",
              "  /* fitted */\n",
              "  background-color: var(--sklearn-color-fitted-level-0);\n",
              "}\n",
              "\n",
              "#sk-container-id-1 div.sk-toggleable__content pre {\n",
              "  margin: 0.2em;\n",
              "  border-radius: 0.25em;\n",
              "  color: var(--sklearn-color-text);\n",
              "  /* unfitted */\n",
              "  background-color: var(--sklearn-color-unfitted-level-0);\n",
              "}\n",
              "\n",
              "#sk-container-id-1 div.sk-toggleable__content.fitted pre {\n",
              "  /* unfitted */\n",
              "  background-color: var(--sklearn-color-fitted-level-0);\n",
              "}\n",
              "\n",
              "#sk-container-id-1 input.sk-toggleable__control:checked~div.sk-toggleable__content {\n",
              "  /* Expand drop-down */\n",
              "  max-height: 200px;\n",
              "  max-width: 100%;\n",
              "  overflow: auto;\n",
              "}\n",
              "\n",
              "#sk-container-id-1 input.sk-toggleable__control:checked~label.sk-toggleable__label-arrow:before {\n",
              "  content: \"▾\";\n",
              "}\n",
              "\n",
              "/* Pipeline/ColumnTransformer-specific style */\n",
              "\n",
              "#sk-container-id-1 div.sk-label input.sk-toggleable__control:checked~label.sk-toggleable__label {\n",
              "  color: var(--sklearn-color-text);\n",
              "  background-color: var(--sklearn-color-unfitted-level-2);\n",
              "}\n",
              "\n",
              "#sk-container-id-1 div.sk-label.fitted input.sk-toggleable__control:checked~label.sk-toggleable__label {\n",
              "  background-color: var(--sklearn-color-fitted-level-2);\n",
              "}\n",
              "\n",
              "/* Estimator-specific style */\n",
              "\n",
              "/* Colorize estimator box */\n",
              "#sk-container-id-1 div.sk-estimator input.sk-toggleable__control:checked~label.sk-toggleable__label {\n",
              "  /* unfitted */\n",
              "  background-color: var(--sklearn-color-unfitted-level-2);\n",
              "}\n",
              "\n",
              "#sk-container-id-1 div.sk-estimator.fitted input.sk-toggleable__control:checked~label.sk-toggleable__label {\n",
              "  /* fitted */\n",
              "  background-color: var(--sklearn-color-fitted-level-2);\n",
              "}\n",
              "\n",
              "#sk-container-id-1 div.sk-label label.sk-toggleable__label,\n",
              "#sk-container-id-1 div.sk-label label {\n",
              "  /* The background is the default theme color */\n",
              "  color: var(--sklearn-color-text-on-default-background);\n",
              "}\n",
              "\n",
              "/* On hover, darken the color of the background */\n",
              "#sk-container-id-1 div.sk-label:hover label.sk-toggleable__label {\n",
              "  color: var(--sklearn-color-text);\n",
              "  background-color: var(--sklearn-color-unfitted-level-2);\n",
              "}\n",
              "\n",
              "/* Label box, darken color on hover, fitted */\n",
              "#sk-container-id-1 div.sk-label.fitted:hover label.sk-toggleable__label.fitted {\n",
              "  color: var(--sklearn-color-text);\n",
              "  background-color: var(--sklearn-color-fitted-level-2);\n",
              "}\n",
              "\n",
              "/* Estimator label */\n",
              "\n",
              "#sk-container-id-1 div.sk-label label {\n",
              "  font-family: monospace;\n",
              "  font-weight: bold;\n",
              "  display: inline-block;\n",
              "  line-height: 1.2em;\n",
              "}\n",
              "\n",
              "#sk-container-id-1 div.sk-label-container {\n",
              "  text-align: center;\n",
              "}\n",
              "\n",
              "/* Estimator-specific */\n",
              "#sk-container-id-1 div.sk-estimator {\n",
              "  font-family: monospace;\n",
              "  border: 1px dotted var(--sklearn-color-border-box);\n",
              "  border-radius: 0.25em;\n",
              "  box-sizing: border-box;\n",
              "  margin-bottom: 0.5em;\n",
              "  /* unfitted */\n",
              "  background-color: var(--sklearn-color-unfitted-level-0);\n",
              "}\n",
              "\n",
              "#sk-container-id-1 div.sk-estimator.fitted {\n",
              "  /* fitted */\n",
              "  background-color: var(--sklearn-color-fitted-level-0);\n",
              "}\n",
              "\n",
              "/* on hover */\n",
              "#sk-container-id-1 div.sk-estimator:hover {\n",
              "  /* unfitted */\n",
              "  background-color: var(--sklearn-color-unfitted-level-2);\n",
              "}\n",
              "\n",
              "#sk-container-id-1 div.sk-estimator.fitted:hover {\n",
              "  /* fitted */\n",
              "  background-color: var(--sklearn-color-fitted-level-2);\n",
              "}\n",
              "\n",
              "/* Specification for estimator info (e.g. \"i\" and \"?\") */\n",
              "\n",
              "/* Common style for \"i\" and \"?\" */\n",
              "\n",
              ".sk-estimator-doc-link,\n",
              "a:link.sk-estimator-doc-link,\n",
              "a:visited.sk-estimator-doc-link {\n",
              "  float: right;\n",
              "  font-size: smaller;\n",
              "  line-height: 1em;\n",
              "  font-family: monospace;\n",
              "  background-color: var(--sklearn-color-background);\n",
              "  border-radius: 1em;\n",
              "  height: 1em;\n",
              "  width: 1em;\n",
              "  text-decoration: none !important;\n",
              "  margin-left: 0.5em;\n",
              "  text-align: center;\n",
              "  /* unfitted */\n",
              "  border: var(--sklearn-color-unfitted-level-1) 1pt solid;\n",
              "  color: var(--sklearn-color-unfitted-level-1);\n",
              "}\n",
              "\n",
              ".sk-estimator-doc-link.fitted,\n",
              "a:link.sk-estimator-doc-link.fitted,\n",
              "a:visited.sk-estimator-doc-link.fitted {\n",
              "  /* fitted */\n",
              "  border: var(--sklearn-color-fitted-level-1) 1pt solid;\n",
              "  color: var(--sklearn-color-fitted-level-1);\n",
              "}\n",
              "\n",
              "/* On hover */\n",
              "div.sk-estimator:hover .sk-estimator-doc-link:hover,\n",
              ".sk-estimator-doc-link:hover,\n",
              "div.sk-label-container:hover .sk-estimator-doc-link:hover,\n",
              ".sk-estimator-doc-link:hover {\n",
              "  /* unfitted */\n",
              "  background-color: var(--sklearn-color-unfitted-level-3);\n",
              "  color: var(--sklearn-color-background);\n",
              "  text-decoration: none;\n",
              "}\n",
              "\n",
              "div.sk-estimator.fitted:hover .sk-estimator-doc-link.fitted:hover,\n",
              ".sk-estimator-doc-link.fitted:hover,\n",
              "div.sk-label-container:hover .sk-estimator-doc-link.fitted:hover,\n",
              ".sk-estimator-doc-link.fitted:hover {\n",
              "  /* fitted */\n",
              "  background-color: var(--sklearn-color-fitted-level-3);\n",
              "  color: var(--sklearn-color-background);\n",
              "  text-decoration: none;\n",
              "}\n",
              "\n",
              "/* Span, style for the box shown on hovering the info icon */\n",
              ".sk-estimator-doc-link span {\n",
              "  display: none;\n",
              "  z-index: 9999;\n",
              "  position: relative;\n",
              "  font-weight: normal;\n",
              "  right: .2ex;\n",
              "  padding: .5ex;\n",
              "  margin: .5ex;\n",
              "  width: min-content;\n",
              "  min-width: 20ex;\n",
              "  max-width: 50ex;\n",
              "  color: var(--sklearn-color-text);\n",
              "  box-shadow: 2pt 2pt 4pt #999;\n",
              "  /* unfitted */\n",
              "  background: var(--sklearn-color-unfitted-level-0);\n",
              "  border: .5pt solid var(--sklearn-color-unfitted-level-3);\n",
              "}\n",
              "\n",
              ".sk-estimator-doc-link.fitted span {\n",
              "  /* fitted */\n",
              "  background: var(--sklearn-color-fitted-level-0);\n",
              "  border: var(--sklearn-color-fitted-level-3);\n",
              "}\n",
              "\n",
              ".sk-estimator-doc-link:hover span {\n",
              "  display: block;\n",
              "}\n",
              "\n",
              "/* \"?\"-specific style due to the `<a>` HTML tag */\n",
              "\n",
              "#sk-container-id-1 a.estimator_doc_link {\n",
              "  float: right;\n",
              "  font-size: 1rem;\n",
              "  line-height: 1em;\n",
              "  font-family: monospace;\n",
              "  background-color: var(--sklearn-color-background);\n",
              "  border-radius: 1rem;\n",
              "  height: 1rem;\n",
              "  width: 1rem;\n",
              "  text-decoration: none;\n",
              "  /* unfitted */\n",
              "  color: var(--sklearn-color-unfitted-level-1);\n",
              "  border: var(--sklearn-color-unfitted-level-1) 1pt solid;\n",
              "}\n",
              "\n",
              "#sk-container-id-1 a.estimator_doc_link.fitted {\n",
              "  /* fitted */\n",
              "  border: var(--sklearn-color-fitted-level-1) 1pt solid;\n",
              "  color: var(--sklearn-color-fitted-level-1);\n",
              "}\n",
              "\n",
              "/* On hover */\n",
              "#sk-container-id-1 a.estimator_doc_link:hover {\n",
              "  /* unfitted */\n",
              "  background-color: var(--sklearn-color-unfitted-level-3);\n",
              "  color: var(--sklearn-color-background);\n",
              "  text-decoration: none;\n",
              "}\n",
              "\n",
              "#sk-container-id-1 a.estimator_doc_link.fitted:hover {\n",
              "  /* fitted */\n",
              "  background-color: var(--sklearn-color-fitted-level-3);\n",
              "}\n",
              "</style><div id=\"sk-container-id-1\" class=\"sk-top-container\"><div class=\"sk-text-repr-fallback\"><pre>RandomForestClassifier(random_state=42)</pre><b>In a Jupyter environment, please rerun this cell to show the HTML representation or trust the notebook. <br />On GitHub, the HTML representation is unable to render, please try loading this page with nbviewer.org.</b></div><div class=\"sk-container\" hidden><div class=\"sk-item\"><div class=\"sk-estimator fitted sk-toggleable\"><input class=\"sk-toggleable__control sk-hidden--visually\" id=\"sk-estimator-id-1\" type=\"checkbox\" checked><label for=\"sk-estimator-id-1\" class=\"sk-toggleable__label fitted sk-toggleable__label-arrow\"><div><div>RandomForestClassifier</div></div><div><a class=\"sk-estimator-doc-link fitted\" rel=\"noreferrer\" target=\"_blank\" href=\"https://scikit-learn.org/1.6/modules/generated/sklearn.ensemble.RandomForestClassifier.html\">?<span>Documentation for RandomForestClassifier</span></a><span class=\"sk-estimator-doc-link fitted\">i<span>Fitted</span></span></div></label><div class=\"sk-toggleable__content fitted\"><pre>RandomForestClassifier(random_state=42)</pre></div> </div></div></div></div>"
            ]
          },
          "metadata": {},
          "execution_count": 24
        }
      ],
      "source": [
        "# Escolher modelo\n",
        "modelo = RandomForestClassifier(n_estimators=100, random_state=42)\n",
        "modelo.fit(X_train, y_train)"
      ]
    },
    {
      "cell_type": "code",
      "execution_count": 25,
      "id": "468c234a-7524-480d-b7e1-3d5c2815b4ab",
      "metadata": {
        "colab": {
          "base_uri": "https://localhost:8080/"
        },
        "id": "468c234a-7524-480d-b7e1-3d5c2815b4ab",
        "outputId": "d6aee81b-03bf-4bb9-ad98-08a0b5977f4c"
      },
      "outputs": [
        {
          "output_type": "stream",
          "name": "stdout",
          "text": [
            "              precision    recall  f1-score   support\n",
            "\n",
            "           0       0.95      1.00      0.97      2843\n",
            "           1       0.00      0.00      0.00       157\n",
            "\n",
            "    accuracy                           0.95      3000\n",
            "   macro avg       0.47      0.50      0.49      3000\n",
            "weighted avg       0.90      0.95      0.92      3000\n",
            "\n"
          ]
        },
        {
          "output_type": "stream",
          "name": "stderr",
          "text": [
            "/usr/local/lib/python3.11/dist-packages/sklearn/metrics/_classification.py:1565: UndefinedMetricWarning: Precision is ill-defined and being set to 0.0 in labels with no predicted samples. Use `zero_division` parameter to control this behavior.\n",
            "  _warn_prf(average, modifier, f\"{metric.capitalize()} is\", len(result))\n",
            "/usr/local/lib/python3.11/dist-packages/sklearn/metrics/_classification.py:1565: UndefinedMetricWarning: Precision is ill-defined and being set to 0.0 in labels with no predicted samples. Use `zero_division` parameter to control this behavior.\n",
            "  _warn_prf(average, modifier, f\"{metric.capitalize()} is\", len(result))\n",
            "/usr/local/lib/python3.11/dist-packages/sklearn/metrics/_classification.py:1565: UndefinedMetricWarning: Precision is ill-defined and being set to 0.0 in labels with no predicted samples. Use `zero_division` parameter to control this behavior.\n",
            "  _warn_prf(average, modifier, f\"{metric.capitalize()} is\", len(result))\n"
          ]
        }
      ],
      "source": [
        "# Avaliação\n",
        "y_pred = modelo.predict(X_test)\n",
        "print(classification_report(y_test, y_pred))"
      ]
    },
    {
      "cell_type": "code",
      "execution_count": 26,
      "id": "f8bbcd9b-79c2-44d8-94e1-06ec7fdab9ec",
      "metadata": {
        "colab": {
          "base_uri": "https://localhost:8080/"
        },
        "id": "f8bbcd9b-79c2-44d8-94e1-06ec7fdab9ec",
        "outputId": "d522a42d-c0a7-4faf-f976-064f51145f38"
      },
      "outputs": [
        {
          "output_type": "stream",
          "name": "stdout",
          "text": [
            "Base de dados gerada e modelo treinado com sucesso!\n"
          ]
        }
      ],
      "source": [
        "# Salvar como CSV\n",
        "df.to_csv('fraudes_cartao.csv', index=False)\n",
        "print(\"Base de dados gerada e modelo treinado com sucesso!\")"
      ]
    },
    {
      "cell_type": "code",
      "execution_count": null,
      "id": "5617906e-9e06-469d-8b86-3dc938af3fa9",
      "metadata": {
        "id": "5617906e-9e06-469d-8b86-3dc938af3fa9"
      },
      "outputs": [],
      "source": [
        "# Sim, o modelo teve um bom desempenho para identificar transações legítimas, com uma precisão de 0,95 para a classe \"0\"\n",
        "# (não fraude). Porém, ele teve dificuldades para identificar as fraudes (classe \"1\"),\n",
        "# com precisão de 0,00 e recall de 0,00, o que significa que ele não conseguiu identificar nenhuma fraude corretamente.\n",
        "# Isso é comum quando temos um desequilíbrio de classes, ou seja, a quantidade de fraudes no dataset é muito menor do que as transações legítimas,\n",
        "# o que faz com que o modelo acabe \"ignorando\" as fraudes, já que ele tende a se concentrar mais na classe majoritária.\n",
        "\n",
        "# Isso pode ser melhorado com algumas técnicas, como balancear as classes ou ajustar o limiar de decisão, para que o modelo consiga dar mais\n",
        "# atenção às fraudes."
      ]
    },
    {
      "cell_type": "code",
      "execution_count": 28,
      "id": "eeba0d12-94f3-4fdb-bf8a-bb76149c1b27",
      "metadata": {
        "colab": {
          "base_uri": "https://localhost:8080/"
        },
        "id": "eeba0d12-94f3-4fdb-bf8a-bb76149c1b27",
        "outputId": "0b7ba28c-b3d0-403e-a9b0-c32daa91e58a"
      },
      "outputs": [
        {
          "output_type": "execute_result",
          "data": {
            "text/plain": [
              "['modelo_fraudes_cartao.pkl']"
            ]
          },
          "metadata": {},
          "execution_count": 28
        }
      ],
      "source": [
        "import joblib\n",
        "\n",
        "joblib.dump(modelo, 'modelo_fraudes_cartao.pkl')"
      ]
    }
  ],
  "metadata": {
    "kernelspec": {
      "display_name": "Python 3 (ipykernel)",
      "language": "python",
      "name": "python3"
    },
    "language_info": {
      "codemirror_mode": {
        "name": "ipython",
        "version": 3
      },
      "file_extension": ".py",
      "mimetype": "text/x-python",
      "name": "python",
      "nbconvert_exporter": "python",
      "pygments_lexer": "ipython3",
      "version": "3.12.7"
    },
    "colab": {
      "provenance": [],
      "include_colab_link": true
    }
  },
  "nbformat": 4,
  "nbformat_minor": 5
}